{
 "cells": [
  {
   "cell_type": "code",
   "execution_count": null,
   "metadata": {},
   "outputs": [],
   "source": [
    "#Dado un número entero, determinar si ese número corresponde al código ASCII de una vocal minúscula.\n",
    "n : int\n",
    "n = int(input(\"Ingrese un número entero: \")) # Conversión a entero\n",
    "if n == 97 or 101 or 105 or 111 or 117: #Caso verdadero\n",
    "  print(\"El número \"+str(n)+\" corresponde al código ASCII de una vocal minúscula\")\n",
    "else: #Caso falso\n",
    "  print(\"El número \"+str(n)+\" no corresponde al código ASCII de una vocal minúscula\")"
   ]
  },
  {
   "cell_type": "code",
   "execution_count": null,
   "metadata": {},
   "outputs": [],
   "source": [
    "#Dada una cadena de longitud 1, determine si el código ASCII de primera letra de la cadena es par o no.\n",
    "n = input(\"Ingrese una letra, número o símbolo CON UN SÓLO CARACTER: \") #Ingreso de cualquier caracter\n",
    "codigo_ascii = ord(n) #Definición del código ASCII al cual corresponde n\n",
    "if codigo_ascii % 2 == 0: #Caso 1: si el código ASCII de ese caracter es divisible entre 2, entonces es par.\n",
    "  print(f\"El código ASCII de '{n}' es par.\")\n",
    "else: #Caso 2: si el código ASCII de ese caracter no es divisible entre 2, entonces es impar.\n",
    "  print(f\"El código ASCII de '{n}' no es par.\")"
   ]
  },
  {
   "cell_type": "code",
   "execution_count": 2,
   "metadata": {},
   "outputs": [
    {
     "ename": "SyntaxError",
     "evalue": "expected ':' (3073547851.py, line 3)",
     "output_type": "error",
     "traceback": [
      "\u001b[1;36m  Cell \u001b[1;32mIn[2], line 3\u001b[1;36m\u001b[0m\n\u001b[1;33m    if n == float #Caso 1: cuando n sea un dígito\u001b[0m\n\u001b[1;37m                  ^\u001b[0m\n\u001b[1;31mSyntaxError\u001b[0m\u001b[1;31m:\u001b[0m expected ':'\n"
     ]
    }
   ],
   "source": [
    "#Dado un carácter, construya un programa en Python para determinar si el carácter es un dígito o no.\n",
    "n = input(\"Ingrese un caracter: \") #Ingreso de cualquier caracter\n",
    "if n.isdigit() #Caso 1: verifica si el caracter es un dígito\n",
    "  print(str(n)+\" es un dígito\")\n",
    "else: #Caso 2: cuando n  no sea un dígito\n",
    "  print(str(n)+\" no es un dígito\")"
   ]
  }
 ],
 "metadata": {
  "kernelspec": {
   "display_name": "Python 3",
   "language": "python",
   "name": "python3"
  },
  "language_info": {
   "codemirror_mode": {
    "name": "ipython",
    "version": 3
   },
   "file_extension": ".py",
   "mimetype": "text/x-python",
   "name": "python",
   "nbconvert_exporter": "python",
   "pygments_lexer": "ipython3",
   "version": "3.11.4"
  },
  "orig_nbformat": 4
 },
 "nbformat": 4,
 "nbformat_minor": 2
}
